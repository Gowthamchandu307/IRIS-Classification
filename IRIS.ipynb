{
 "cells": [
  {
   "cell_type": "code",
   "execution_count": 1,
   "id": "85485543",
   "metadata": {},
   "outputs": [],
   "source": [
    "# Iris flower has three species; setosa, versicolor, and virginica, which differs according to their measurements. "
   ]
  },
  {
   "cell_type": "code",
   "execution_count": 2,
   "id": "4304c59e",
   "metadata": {},
   "outputs": [],
   "source": [
    "import pandas as pd\n",
    "from sklearn import tree\n",
    "from sklearn.preprocessing import LabelEncoder, StandardScaler\n",
    "from sklearn.tree import DecisionTreeClassifier\n",
    "from sklearn.model_selection import train_test_split\n",
    "from sklearn import tree\n",
    "from sklearn.metrics import confusion_matrix\n",
    "from sklearn.metrics import accuracy_score\n",
    "import matplotlib.pyplot as plt\n",
    "import seaborn as sns"
   ]
  },
  {
   "cell_type": "code",
   "execution_count": 3,
   "id": "c93a9a97",
   "metadata": {},
   "outputs": [
    {
     "name": "stdout",
     "output_type": "stream",
     "text": [
      "      Id  SepalLengthCm  SepalWidthCm  PetalLengthCm  PetalWidthCm  \\\n",
      "0      1            5.1           3.5            1.4           0.2   \n",
      "1      2            4.9           3.0            1.4           0.2   \n",
      "2      3            4.7           3.2            1.3           0.2   \n",
      "3      4            4.6           3.1            1.5           0.2   \n",
      "4      5            5.0           3.6            1.4           0.2   \n",
      "..   ...            ...           ...            ...           ...   \n",
      "145  146            6.7           3.0            5.2           2.3   \n",
      "146  147            6.3           2.5            5.0           1.9   \n",
      "147  148            6.5           3.0            5.2           2.0   \n",
      "148  149            6.2           3.4            5.4           2.3   \n",
      "149  150            5.9           3.0            5.1           1.8   \n",
      "\n",
      "            Species  \n",
      "0       Iris-setosa  \n",
      "1       Iris-setosa  \n",
      "2       Iris-setosa  \n",
      "3       Iris-setosa  \n",
      "4       Iris-setosa  \n",
      "..              ...  \n",
      "145  Iris-virginica  \n",
      "146  Iris-virginica  \n",
      "147  Iris-virginica  \n",
      "148  Iris-virginica  \n",
      "149  Iris-virginica  \n",
      "\n",
      "[150 rows x 6 columns]\n"
     ]
    }
   ],
   "source": [
    "Iris=pd.read_csv(r\"Iris.csv\")\n",
    "print(Iris)"
   ]
  },
  {
   "cell_type": "code",
   "execution_count": 4,
   "id": "d6e5d1a7",
   "metadata": {},
   "outputs": [
    {
     "name": "stdout",
     "output_type": "stream",
     "text": [
      "Id               0\n",
      "SepalLengthCm    0\n",
      "SepalWidthCm     0\n",
      "PetalLengthCm    0\n",
      "PetalWidthCm     0\n",
      "Species          0\n",
      "dtype: int64\n"
     ]
    }
   ],
   "source": [
    "# Check for missing values\n",
    "print(Iris.isnull().sum())"
   ]
  },
  {
   "cell_type": "code",
   "execution_count": 5,
   "id": "bd4bfdcb",
   "metadata": {},
   "outputs": [
    {
     "name": "stdout",
     "output_type": "stream",
     "text": [
      "0\n"
     ]
    }
   ],
   "source": [
    "# Check for duplicate rows\n",
    "print(Iris.duplicated().sum())\n",
    "\n",
    "\n"
   ]
  },
  {
   "cell_type": "code",
   "execution_count": 6,
   "id": "408253b0",
   "metadata": {},
   "outputs": [],
   "source": [
    "# Remove duplicate rows\n",
    "df_duplicates_removed = Iris.drop_duplicates()"
   ]
  },
  {
   "cell_type": "code",
   "execution_count": 7,
   "id": "41ff5900",
   "metadata": {},
   "outputs": [
    {
     "name": "stdout",
     "output_type": "stream",
     "text": [
      "<class 'pandas.core.frame.DataFrame'>\n",
      "RangeIndex: 150 entries, 0 to 149\n",
      "Data columns (total 6 columns):\n",
      " #   Column         Non-Null Count  Dtype  \n",
      "---  ------         --------------  -----  \n",
      " 0   Id             150 non-null    int64  \n",
      " 1   SepalLengthCm  150 non-null    float64\n",
      " 2   SepalWidthCm   150 non-null    float64\n",
      " 3   PetalLengthCm  150 non-null    float64\n",
      " 4   PetalWidthCm   150 non-null    float64\n",
      " 5   Species        150 non-null    object \n",
      "dtypes: float64(4), int64(1), object(1)\n",
      "memory usage: 7.2+ KB\n"
     ]
    }
   ],
   "source": [
    "Iris.info()"
   ]
  },
  {
   "cell_type": "code",
   "execution_count": 8,
   "id": "ad2ddd61",
   "metadata": {},
   "outputs": [
    {
     "data": {
      "text/plain": [
       "(150, 6)"
      ]
     },
     "execution_count": 8,
     "metadata": {},
     "output_type": "execute_result"
    }
   ],
   "source": [
    "Iris.shape"
   ]
  },
  {
   "cell_type": "code",
   "execution_count": 9,
   "id": "430ffa0c",
   "metadata": {},
   "outputs": [
    {
     "name": "stdout",
     "output_type": "stream",
     "text": [
      "Class Distribution:\n",
      "Iris-setosa        50\n",
      "Iris-versicolor    50\n",
      "Iris-virginica     50\n",
      "Name: Species, dtype: int64\n"
     ]
    }
   ],
   "source": [
    "# Class distribution\n",
    "print(\"Class Distribution:\")\n",
    "print(Iris['Species'].value_counts())"
   ]
  },
  {
   "cell_type": "code",
   "execution_count": 10,
   "id": "3aa585eb",
   "metadata": {},
   "outputs": [
    {
     "data": {
      "text/html": [
       "<div>\n",
       "<style scoped>\n",
       "    .dataframe tbody tr th:only-of-type {\n",
       "        vertical-align: middle;\n",
       "    }\n",
       "\n",
       "    .dataframe tbody tr th {\n",
       "        vertical-align: top;\n",
       "    }\n",
       "\n",
       "    .dataframe thead th {\n",
       "        text-align: right;\n",
       "    }\n",
       "</style>\n",
       "<table border=\"1\" class=\"dataframe\">\n",
       "  <thead>\n",
       "    <tr style=\"text-align: right;\">\n",
       "      <th></th>\n",
       "      <th>Id</th>\n",
       "      <th>SepalLengthCm</th>\n",
       "      <th>SepalWidthCm</th>\n",
       "      <th>PetalLengthCm</th>\n",
       "      <th>PetalWidthCm</th>\n",
       "    </tr>\n",
       "  </thead>\n",
       "  <tbody>\n",
       "    <tr>\n",
       "      <th>count</th>\n",
       "      <td>150.000000</td>\n",
       "      <td>150.000000</td>\n",
       "      <td>150.000000</td>\n",
       "      <td>150.000000</td>\n",
       "      <td>150.000000</td>\n",
       "    </tr>\n",
       "    <tr>\n",
       "      <th>mean</th>\n",
       "      <td>75.500000</td>\n",
       "      <td>5.843333</td>\n",
       "      <td>3.054000</td>\n",
       "      <td>3.758667</td>\n",
       "      <td>1.198667</td>\n",
       "    </tr>\n",
       "    <tr>\n",
       "      <th>std</th>\n",
       "      <td>43.445368</td>\n",
       "      <td>0.828066</td>\n",
       "      <td>0.433594</td>\n",
       "      <td>1.764420</td>\n",
       "      <td>0.763161</td>\n",
       "    </tr>\n",
       "    <tr>\n",
       "      <th>min</th>\n",
       "      <td>1.000000</td>\n",
       "      <td>4.300000</td>\n",
       "      <td>2.000000</td>\n",
       "      <td>1.000000</td>\n",
       "      <td>0.100000</td>\n",
       "    </tr>\n",
       "    <tr>\n",
       "      <th>25%</th>\n",
       "      <td>38.250000</td>\n",
       "      <td>5.100000</td>\n",
       "      <td>2.800000</td>\n",
       "      <td>1.600000</td>\n",
       "      <td>0.300000</td>\n",
       "    </tr>\n",
       "    <tr>\n",
       "      <th>50%</th>\n",
       "      <td>75.500000</td>\n",
       "      <td>5.800000</td>\n",
       "      <td>3.000000</td>\n",
       "      <td>4.350000</td>\n",
       "      <td>1.300000</td>\n",
       "    </tr>\n",
       "    <tr>\n",
       "      <th>75%</th>\n",
       "      <td>112.750000</td>\n",
       "      <td>6.400000</td>\n",
       "      <td>3.300000</td>\n",
       "      <td>5.100000</td>\n",
       "      <td>1.800000</td>\n",
       "    </tr>\n",
       "    <tr>\n",
       "      <th>max</th>\n",
       "      <td>150.000000</td>\n",
       "      <td>7.900000</td>\n",
       "      <td>4.400000</td>\n",
       "      <td>6.900000</td>\n",
       "      <td>2.500000</td>\n",
       "    </tr>\n",
       "  </tbody>\n",
       "</table>\n",
       "</div>"
      ],
      "text/plain": [
       "               Id  SepalLengthCm  SepalWidthCm  PetalLengthCm  PetalWidthCm\n",
       "count  150.000000     150.000000    150.000000     150.000000    150.000000\n",
       "mean    75.500000       5.843333      3.054000       3.758667      1.198667\n",
       "std     43.445368       0.828066      0.433594       1.764420      0.763161\n",
       "min      1.000000       4.300000      2.000000       1.000000      0.100000\n",
       "25%     38.250000       5.100000      2.800000       1.600000      0.300000\n",
       "50%     75.500000       5.800000      3.000000       4.350000      1.300000\n",
       "75%    112.750000       6.400000      3.300000       5.100000      1.800000\n",
       "max    150.000000       7.900000      4.400000       6.900000      2.500000"
      ]
     },
     "execution_count": 10,
     "metadata": {},
     "output_type": "execute_result"
    }
   ],
   "source": [
    "Iris.describe()"
   ]
  },
  {
   "cell_type": "code",
   "execution_count": 11,
   "id": "3adc89ab",
   "metadata": {},
   "outputs": [
    {
     "name": "stdout",
     "output_type": "stream",
     "text": [
      "Id               74.5\n",
      "SepalLengthCm     1.3\n",
      "SepalWidthCm      0.5\n",
      "PetalLengthCm     3.5\n",
      "PetalWidthCm      1.5\n",
      "dtype: float64\n"
     ]
    }
   ],
   "source": [
    "# Calculate the IQR\n",
    "Q1 = Iris.quantile(0.25)\n",
    "Q3 = Iris.quantile(0.75)\n",
    "IQR = Q3 - Q1\n",
    "print(IQR)"
   ]
  },
  {
   "cell_type": "code",
   "execution_count": 12,
   "id": "e720435d",
   "metadata": {},
   "outputs": [
    {
     "data": {
      "text/plain": [
       "<AxesSubplot: xlabel='SepalWidthCm'>"
      ]
     },
     "execution_count": 12,
     "metadata": {},
     "output_type": "execute_result"
    },
    {
     "data": {
      "image/png": "[encoded data removed]",
      "text/plain": [
       "<Figure size 432x288 with 1 Axes>"
      ]
     },
     "metadata": {
      "needs_background": "light"
     },
     "output_type": "display_data"
    }
   ],
   "source": [
    "# importing packages\n",
    "import seaborn as sns\n",
    "import matplotlib.pyplot as plt\n",
    "\n",
    "sns.boxplot(x='SepalWidthCm', data=Iris)\n"
   ]
  },
  {
   "cell_type": "code",
   "execution_count": 13,
   "id": "c59fe36d",
   "metadata": {},
   "outputs": [
    {
     "name": "stdout",
     "output_type": "stream",
     "text": [
      "Old Shape:  (150, 6)\n",
      "New Shape:  (146, 6)\n"
     ]
    },
    {
     "data": {
      "text/plain": [
       "<AxesSubplot: xlabel='SepalWidthCm'>"
      ]
     },
     "execution_count": 13,
     "metadata": {},
     "output_type": "execute_result"
    },
    {
     "data": {
      "image/png": "[encoded data removed]",
      "text/plain": [
       "<Figure size 432x288 with 1 Axes>"
      ]
     },
     "metadata": {
      "needs_background": "light"
     },
     "output_type": "display_data"
    }
   ],
   "source": [
    "import numpy as np\n",
    "# IQR\n",
    "Q1 = np.percentile(Iris['SepalWidthCm'], 25,interpolation = 'midpoint')\n",
    "\n",
    "Q3 = np.percentile(Iris['SepalWidthCm'], 75,interpolation = 'midpoint')\n",
    "IQR = Q3 - Q1\n",
    "\n",
    "print(\"Old Shape: \", Iris.shape)\n",
    "\n",
    "# Upper bound\n",
    "upper = np.where(Iris['SepalWidthCm'] >= (Q3+1.5*IQR))\n",
    "\n",
    "# Lower bound\n",
    "lower = np.where(Iris['SepalWidthCm'] <= (Q1-1.5*IQR))\n",
    "\n",
    "# Removing the Outliers\n",
    "Iris.drop(upper[0], inplace = True)\n",
    "Iris.drop(lower[0], inplace = True)\n",
    "\n",
    "print(\"New Shape: \", Iris.shape)\n",
    "\n",
    "sns.boxplot(x='SepalWidthCm', data=Iris)\n"
   ]
  },
  {
   "cell_type": "code",
   "execution_count": 14,
   "id": "819bf958",
   "metadata": {},
   "outputs": [
    {
     "data": {
      "text/html": [
       "<div>\n",
       "<style scoped>\n",
       "    .dataframe tbody tr th:only-of-type {\n",
       "        vertical-align: middle;\n",
       "    }\n",
       "\n",
       "    .dataframe tbody tr th {\n",
       "        vertical-align: top;\n",
       "    }\n",
       "\n",
       "    .dataframe thead th {\n",
       "        text-align: right;\n",
       "    }\n",
       "</style>\n",
       "<table border=\"1\" class=\"dataframe\">\n",
       "  <thead>\n",
       "    <tr style=\"text-align: right;\">\n",
       "      <th></th>\n",
       "      <th>Id</th>\n",
       "      <th>SepalLengthCm</th>\n",
       "      <th>SepalWidthCm</th>\n",
       "      <th>PetalLengthCm</th>\n",
       "      <th>PetalWidthCm</th>\n",
       "    </tr>\n",
       "  </thead>\n",
       "  <tbody>\n",
       "    <tr>\n",
       "      <th>Id</th>\n",
       "      <td>1.000000</td>\n",
       "      <td>0.718722</td>\n",
       "      <td>-0.384320</td>\n",
       "      <td>0.880016</td>\n",
       "      <td>0.898193</td>\n",
       "    </tr>\n",
       "    <tr>\n",
       "      <th>SepalLengthCm</th>\n",
       "      <td>0.718722</td>\n",
       "      <td>1.000000</td>\n",
       "      <td>-0.113977</td>\n",
       "      <td>0.879374</td>\n",
       "      <td>0.822577</td>\n",
       "    </tr>\n",
       "    <tr>\n",
       "      <th>SepalWidthCm</th>\n",
       "      <td>-0.384320</td>\n",
       "      <td>-0.113977</td>\n",
       "      <td>1.000000</td>\n",
       "      <td>-0.397123</td>\n",
       "      <td>-0.329782</td>\n",
       "    </tr>\n",
       "    <tr>\n",
       "      <th>PetalLengthCm</th>\n",
       "      <td>0.880016</td>\n",
       "      <td>0.879374</td>\n",
       "      <td>-0.397123</td>\n",
       "      <td>1.000000</td>\n",
       "      <td>0.961755</td>\n",
       "    </tr>\n",
       "    <tr>\n",
       "      <th>PetalWidthCm</th>\n",
       "      <td>0.898193</td>\n",
       "      <td>0.822577</td>\n",
       "      <td>-0.329782</td>\n",
       "      <td>0.961755</td>\n",
       "      <td>1.000000</td>\n",
       "    </tr>\n",
       "  </tbody>\n",
       "</table>\n",
       "</div>"
      ],
      "text/plain": [
       "                     Id  SepalLengthCm  SepalWidthCm  PetalLengthCm  \\\n",
       "Id             1.000000       0.718722     -0.384320       0.880016   \n",
       "SepalLengthCm  0.718722       1.000000     -0.113977       0.879374   \n",
       "SepalWidthCm  -0.384320      -0.113977      1.000000      -0.397123   \n",
       "PetalLengthCm  0.880016       0.879374     -0.397123       1.000000   \n",
       "PetalWidthCm   0.898193       0.822577     -0.329782       0.961755   \n",
       "\n",
       "               PetalWidthCm  \n",
       "Id                 0.898193  \n",
       "SepalLengthCm      0.822577  \n",
       "SepalWidthCm      -0.329782  \n",
       "PetalLengthCm      0.961755  \n",
       "PetalWidthCm       1.000000  "
      ]
     },
     "execution_count": 14,
     "metadata": {},
     "output_type": "execute_result"
    }
   ],
   "source": [
    "Iris.corr(method='pearson')\n"
   ]
  },
  {
   "cell_type": "code",
   "execution_count": 15,
   "id": "36f9532d",
   "metadata": {},
   "outputs": [
    {
     "data": {
      "image/png": "[encoded data removed]",
      "text/plain": [
       "<Figure size 432x288 with 2 Axes>"
      ]
     },
     "metadata": {
      "needs_background": "light"
     },
     "output_type": "display_data"
    }
   ],
   "source": [
    "# Correlation heatmap\n",
    "correlation = Iris.corr()\n",
    "sns.heatmap(correlation, annot=True)\n",
    "# Show the plots\n",
    "plt.show()"
   ]
  },
  {
   "cell_type": "code",
   "execution_count": 16,
   "id": "eed5c66d",
   "metadata": {},
   "outputs": [],
   "source": [
    "\n",
    "Iris.drop(['Id','Species'], axis=1)\n",
    "x=Iris.iloc[:,:-1].values\n",
    "y = Iris['Species']"
   ]
  },
  {
   "cell_type": "code",
   "execution_count": 17,
   "id": "7204c61d",
   "metadata": {},
   "outputs": [
    {
     "name": "stdout",
     "output_type": "stream",
     "text": [
      "[0 0 0 0 0 0 0 0 0 0 0 0 0 0 0 0 0 0 0 0 0 0 0 0 0 0 0 0 0 0 0 0 0 0 0 0 0\n",
      " 0 0 0 0 0 0 0 0 0 0 1 1 1 1 1 1 1 1 1 1 1 1 1 1 1 1 1 1 1 1 1 1 1 1 1 1 1\n",
      " 1 1 1 1 1 1 1 1 1 1 1 1 1 1 1 1 1 1 1 1 1 1 2 2 2 2 2 2 2 2 2 2 2 2 2 2 2\n",
      " 2 2 2 2 2 2 2 2 2 2 2 2 2 2 2 2 2 2 2 2 2 2 2 2 2 2 2 2 2 2 2 2 2 2 2]\n",
      "[[-1.74537636 -0.9105154   1.1757891  -1.3748782  -1.34589856]\n",
      " [-1.72228394 -1.15112218 -0.09392398 -1.3748782  -1.34589856]\n",
      " [-1.69919151 -1.39172896  0.41396125 -1.43198551 -1.34589856]\n",
      " [-1.67609908 -1.51203236  0.16001863 -1.31777088 -1.34589856]\n",
      " [-1.65300665 -1.03081879  1.42973171 -1.3748782  -1.34589856]\n",
      " [-1.62991422 -0.54960522  2.19155956 -1.20355625 -1.08196143]\n",
      " [-1.60682179 -1.51203236  0.92184648 -1.3748782  -1.21392999]\n",
      " [-1.58372936 -1.03081879  0.92184648 -1.31777088 -1.34589856]\n",
      " [-1.56063694 -1.75263914 -0.3478666  -1.3748782  -1.34589856]\n",
      " [-1.53754451 -1.15112218  0.16001863 -1.31777088 -1.47786712]\n",
      " [-1.51445208 -0.54960522  1.68367433 -1.31777088 -1.34589856]\n",
      " [-1.49135965 -1.27142557  0.92184648 -1.26066356 -1.34589856]\n",
      " [-1.46826722 -1.27142557 -0.09392398 -1.3748782  -1.47786712]\n",
      " [-1.44517479 -1.87294253 -0.09392398 -1.54620014 -1.47786712]\n",
      " [-1.42208236 -0.06839165  2.44550218 -1.48909283 -1.34589856]\n",
      " [-1.37589751 -0.54960522  2.19155956 -1.43198551 -1.08196143]\n",
      " [-1.35280508 -0.9105154   1.1757891  -1.3748782  -1.21392999]\n",
      " [-1.32971265 -0.18869505  1.93761695 -1.20355625 -1.21392999]\n",
      " [-1.30662022 -0.9105154   1.93761695 -1.31777088 -1.21392999]\n",
      " [-1.28352779 -0.54960522  0.92184648 -1.20355625 -1.34589856]\n",
      " [-1.26043536 -0.9105154   1.68367433 -1.31777088 -1.08196143]\n",
      " [-1.23734294 -1.51203236  1.42973171 -1.60330746 -1.34589856]\n",
      " [-1.21425051 -0.9105154   0.66790387 -1.20355625 -0.94999287]\n",
      " [-1.19115808 -1.27142557  0.92184648 -1.08934161 -1.34589856]\n",
      " [-1.16806565 -1.03081879 -0.09392398 -1.26066356 -1.34589856]\n",
      " [-1.14497322 -1.03081879  0.92184648 -1.26066356 -1.08196143]\n",
      " [-1.12188079 -0.790212    1.1757891  -1.31777088 -1.34589856]\n",
      " [-1.09878836 -0.790212    0.92184648 -1.3748782  -1.34589856]\n",
      " [-1.07569594 -1.39172896  0.41396125 -1.26066356 -1.34589856]\n",
      " [-1.05260351 -1.27142557  0.16001863 -1.26066356 -1.34589856]\n",
      " [-1.02951108 -0.54960522  0.92184648 -1.31777088 -1.08196143]\n",
      " [-0.96023379 -1.15112218  0.16001863 -1.31777088 -1.47786712]\n",
      " [-0.93714136 -1.03081879  0.41396125 -1.48909283 -1.34589856]\n",
      " [-0.91404894 -0.42930183  1.1757891  -1.43198551 -1.34589856]\n",
      " [-0.89095651 -1.15112218  0.16001863 -1.31777088 -1.47786712]\n",
      " [-0.86786408 -1.75263914 -0.09392398 -1.43198551 -1.34589856]\n",
      " [-0.84477165 -0.9105154   0.92184648 -1.31777088 -1.34589856]\n",
      " [-0.82167922 -1.03081879  1.1757891  -1.43198551 -1.21392999]\n",
      " [-0.79858679 -1.63233575 -1.87152229 -1.43198551 -1.21392999]\n",
      " [-0.77549436 -1.75263914  0.41396125 -1.43198551 -1.34589856]\n",
      " [-0.75240194 -1.03081879  1.1757891  -1.26066356 -0.81802431]\n",
      " [-0.72930951 -0.9105154   1.93761695 -1.08934161 -1.08196143]\n",
      " [-0.70621708 -1.27142557 -0.09392398 -1.3748782  -1.21392999]\n",
      " [-0.68312465 -0.9105154   1.93761695 -1.26066356 -1.34589856]\n",
      " [-0.66003222 -1.51203236  0.41396125 -1.3748782  -1.34589856]\n",
      " [-0.63693979 -0.66990861  1.68367433 -1.31777088 -1.34589856]\n",
      " [-0.61384736 -1.03081879  0.66790387 -1.3748782  -1.34589856]\n",
      " [-0.59075494  1.37524905  0.41396125  0.50966324  0.23772419]\n",
      " [-0.56766251  0.6534287   0.41396125  0.39544861  0.36969275]\n",
      " [-0.54457008  1.25494566  0.16001863  0.62387787  0.36969275]\n",
      " [-0.52147765 -0.42930183 -1.87152229  0.10991203  0.10575563]\n",
      " [-0.49838522  0.77373209 -0.60180921  0.45255592  0.36969275]\n",
      " [-0.47529279 -0.18869505 -0.60180921  0.39544861  0.10575563]\n",
      " [-0.45220036  0.5331253   0.66790387  0.50966324  0.50166132]\n",
      " [-0.42910794 -1.15112218 -1.61757968 -0.28983919 -0.29015006]\n",
      " [-0.40601551  0.89403548 -0.3478666   0.45255592  0.10575563]\n",
      " [-0.38292308 -0.790212   -0.85575183  0.05280471  0.23772419]\n",
      " [-0.33673822  0.05191174 -0.09392398  0.22412666  0.36969275]\n",
      " [-0.31364579  0.17221513 -2.12546491  0.10991203 -0.29015006]\n",
      " [-0.29055336  0.29251852 -0.3478666   0.50966324  0.23772419]\n",
      " [-0.26746094 -0.30899844 -0.3478666  -0.11851724  0.10575563]\n",
      " [-0.24436851  1.01433887  0.16001863  0.33834129  0.23772419]\n",
      " [-0.22127608 -0.30899844 -0.09392398  0.39544861  0.36969275]\n",
      " [-0.19818365 -0.06839165 -0.85575183  0.16701934 -0.29015006]\n",
      " [-0.17509122  0.41282191 -2.12546491  0.39544861  0.36969275]\n",
      " [-0.15199879 -0.30899844 -1.36363706  0.05280471 -0.1581815 ]\n",
      " [-0.12890636  0.05191174  0.41396125  0.56677056  0.76559844]\n",
      " [-0.10581394  0.29251852 -0.60180921  0.10991203  0.10575563]\n",
      " [-0.08272151  0.5331253  -1.36363706  0.62387787  0.36969275]\n",
      " [-0.05962908  0.29251852 -0.60180921  0.50966324 -0.02621293]\n",
      " [-0.03653665  0.6534287  -0.3478666   0.28123398  0.10575563]\n",
      " [-0.01344422  0.89403548 -0.09392398  0.33834129  0.23772419]\n",
      " [ 0.00964821  1.13464226 -0.60180921  0.56677056  0.23772419]\n",
      " [ 0.03274064  1.01433887 -0.09392398  0.68098519  0.63362988]\n",
      " [ 0.05583306  0.17221513 -0.3478666   0.39544861  0.36969275]\n",
      " [ 0.07892549 -0.18869505 -1.10969444 -0.17562455 -0.29015006]\n",
      " [ 0.10201792 -0.42930183 -1.61757968 -0.00430261 -0.1581815 ]\n",
      " [ 0.12511035 -0.42930183 -1.61757968 -0.06140992 -0.29015006]\n",
      " [ 0.14820278 -0.06839165 -0.85575183  0.05280471 -0.02621293]\n",
      " [ 0.17129521  0.17221513 -0.85575183  0.73809251  0.50166132]\n",
      " [ 0.19438764 -0.54960522 -0.09392398  0.39544861  0.36969275]\n",
      " [ 0.21748006  0.17221513  0.92184648  0.39544861  0.50166132]\n",
      " [ 0.24057249  1.01433887  0.16001863  0.50966324  0.36969275]\n",
      " [ 0.26366492  0.5331253  -1.87152229  0.33834129  0.10575563]\n",
      " [ 0.28675735 -0.30899844 -0.09392398  0.16701934  0.10575563]\n",
      " [ 0.30984978 -0.42930183 -1.36363706  0.10991203  0.10575563]\n",
      " [ 0.33294221 -0.42930183 -1.10969444  0.33834129 -0.02621293]\n",
      " [ 0.35603464  0.29251852 -0.09392398  0.45255592  0.23772419]\n",
      " [ 0.37912706 -0.06839165 -1.10969444  0.10991203 -0.02621293]\n",
      " [ 0.40221949 -1.03081879 -1.87152229 -0.28983919 -0.29015006]\n",
      " [ 0.42531192 -0.30899844 -0.85575183  0.22412666  0.10575563]\n",
      " [ 0.44840435 -0.18869505 -0.09392398  0.22412666 -0.02621293]\n",
      " [ 0.47149678 -0.18869505 -0.3478666   0.22412666  0.10575563]\n",
      " [ 0.49458921  0.41282191 -0.3478666   0.28123398  0.10575563]\n",
      " [ 0.51768164 -0.9105154  -1.36363706 -0.46116114 -0.1581815 ]\n",
      " [ 0.54077406 -0.18869505 -0.60180921  0.16701934  0.10575563]\n",
      " [ 0.56386649  0.5331253   0.66790387  1.25205835  1.68937838]\n",
      " [ 0.58695892 -0.06839165 -0.85575183  0.73809251  0.897567  ]\n",
      " [ 0.61005135  1.49555244 -0.09392398  1.19495103  1.16150413]\n",
      " [ 0.63314378  0.5331253  -0.3478666   1.02362909  0.76559844]\n",
      " [ 0.65623621  0.77373209 -0.09392398  1.13784372  1.29347269]\n",
      " [ 0.67932864  2.0970694  -0.09392398  1.59470225  1.16150413]\n",
      " [ 0.70242106 -1.15112218 -1.36363706  0.39544861  0.63362988]\n",
      " [ 0.72551349  1.73615922 -0.3478666   1.4233803   0.76559844]\n",
      " [ 0.74860592  1.01433887 -1.36363706  1.13784372  0.76559844]\n",
      " [ 0.77169835  1.61585583  1.42973171  1.30916567  1.68937838]\n",
      " [ 0.79479078  0.77373209  0.41396125  0.73809251  1.02953556]\n",
      " [ 0.81788321  0.6534287  -0.85575183  0.85230714  0.897567  ]\n",
      " [ 0.84097564  1.13464226 -0.09392398  0.96652177  1.16150413]\n",
      " [ 0.86406806 -0.18869505 -1.36363706  0.68098519  1.02953556]\n",
      " [ 0.88716049 -0.06839165 -0.60180921  0.73809251  1.55740981]\n",
      " [ 0.91025292  0.6534287   0.41396125  0.85230714  1.42544125]\n",
      " [ 0.93334535  0.77373209 -0.09392398  0.96652177  0.76559844]\n",
      " [ 0.95643778  2.21737279  1.93761695  1.65180956  1.29347269]\n",
      " [ 0.97953021  2.21737279 -1.10969444  1.7660242   1.42544125]\n",
      " [ 1.00262264  0.17221513 -2.12546491  0.68098519  0.36969275]\n",
      " [ 1.02571506  1.25494566  0.41396125  1.0807364   1.42544125]\n",
      " [ 1.04880749 -0.30899844 -0.60180921  0.62387787  1.02953556]\n",
      " [ 1.07189992  2.21737279 -0.60180921  1.65180956  1.02953556]\n",
      " [ 1.09499235  0.5331253  -0.85575183  0.62387787  0.76559844]\n",
      " [ 1.11808478  1.01433887  0.66790387  1.0807364   1.16150413]\n",
      " [ 1.14117721  1.61585583  0.41396125  1.25205835  0.76559844]\n",
      " [ 1.16426963  0.41282191 -0.60180921  0.56677056  0.76559844]\n",
      " [ 1.18736206  0.29251852 -0.09392398  0.62387787  0.76559844]\n",
      " [ 1.21045449  0.6534287  -0.60180921  1.02362909  1.16150413]\n",
      " [ 1.23354692  1.61585583 -0.09392398  1.13784372  0.50166132]\n",
      " [ 1.25663935  1.85646261 -0.60180921  1.30916567  0.897567  ]\n",
      " [ 1.27973178  2.45797957  1.93761695  1.48048762  1.02953556]\n",
      " [ 1.30282421  0.6534287  -0.60180921  1.02362909  1.29347269]\n",
      " [ 1.32591663  0.5331253  -0.60180921  0.73809251  0.36969275]\n",
      " [ 1.34900906  0.29251852 -1.10969444  1.02362909  0.23772419]\n",
      " [ 1.37210149  2.21737279 -0.09392398  1.30916567  1.42544125]\n",
      " [ 1.39519392  0.5331253   0.92184648  1.02362909  1.55740981]\n",
      " [ 1.41828635  0.6534287   0.16001863  0.96652177  0.76559844]\n",
      " [ 1.44137878  0.17221513 -0.09392398  0.56677056  0.76559844]\n",
      " [ 1.46447121  1.25494566  0.16001863  0.90941445  1.16150413]\n",
      " [ 1.48756363  1.01433887  0.16001863  1.02362909  1.55740981]\n",
      " [ 1.51065606  1.25494566  0.16001863  0.73809251  1.42544125]\n",
      " [ 1.53374849 -0.06839165 -0.85575183  0.73809251  0.897567  ]\n",
      " [ 1.55684092  1.13464226  0.41396125  1.19495103  1.42544125]\n",
      " [ 1.57993335  1.01433887  0.66790387  1.0807364   1.68937838]\n",
      " [ 1.60302578  1.01433887 -0.09392398  0.79519982  1.42544125]\n",
      " [ 1.62611821  0.5331253  -1.36363706  0.68098519  0.897567  ]\n",
      " [ 1.64921063  0.77373209 -0.09392398  0.79519982  1.02953556]\n",
      " [ 1.67230306  0.41282191  0.92184648  0.90941445  1.42544125]\n",
      " [ 1.69539549  0.05191174 -0.09392398  0.73809251  0.76559844]]\n"
     ]
    }
   ],
   "source": [
    "# Encode categorical variable\n",
    "label_encoder = LabelEncoder()\n",
    "y = label_encoder.fit_transform(y)\n",
    "print(y)\n",
    "\n",
    "# Scale numerical features\n",
    "scaler = StandardScaler()\n",
    "X = scaler.fit_transform(x)\n",
    "print(X)"
   ]
  },
  {
   "cell_type": "markdown",
   "id": "c3ceeb9b",
   "metadata": {},
   "source": [
    "# SPLITTING THE IRIS DATA INTO TRAINING AND TESTING DATA"
   ]
  },
  {
   "cell_type": "code",
   "execution_count": 18,
   "id": "82697f04",
   "metadata": {},
   "outputs": [
    {
     "name": "stdout",
     "output_type": "stream",
     "text": [
      "X_train shape: (116, 5)\n",
      "X_test shape: (30, 5)\n",
      "y_train shape: (116,)\n",
      "y_test shape: (30,)\n"
     ]
    }
   ],
   "source": [
    "# Split the data into training and testing sets\n",
    "X_train, X_test, y_train, y_test = train_test_split(X, y, test_size=0.2, random_state=42)\n",
    "\n",
    "# Print the preprocessed data\n",
    "print(\"X_train shape:\", X_train.shape)\n",
    "print(\"X_test shape:\", X_test.shape)\n",
    "print(\"y_train shape:\", y_train.shape)\n",
    "print(\"y_test shape:\", y_test.shape)"
   ]
  },
  {
   "cell_type": "markdown",
   "id": "33fe784b",
   "metadata": {},
   "source": [
    "# Create a Decision Tree classifier"
   ]
  },
  {
   "cell_type": "code",
   "execution_count": 19,
   "id": "23000c53",
   "metadata": {},
   "outputs": [],
   "source": [
    "\n",
    "model = DecisionTreeClassifier()\n"
   ]
  },
  {
   "cell_type": "code",
   "execution_count": 20,
   "id": "359a157e",
   "metadata": {},
   "outputs": [],
   "source": [
    "train_classifier=model.fit(X_train, y_train)"
   ]
  },
  {
   "cell_type": "code",
   "execution_count": 21,
   "id": "2d4fc33e",
   "metadata": {},
   "outputs": [],
   "source": [
    "y_pred = train_classifier.predict(X_test)"
   ]
  },
  {
   "cell_type": "markdown",
   "id": "6de28b5d",
   "metadata": {},
   "source": [
    "# performance measure"
   ]
  },
  {
   "cell_type": "code",
   "execution_count": 22,
   "id": "7ffbd55b",
   "metadata": {},
   "outputs": [
    {
     "name": "stdout",
     "output_type": "stream",
     "text": [
      "[[12  0  0]\n",
      " [ 0  8  0]\n",
      " [ 0  1  9]]\n"
     ]
    }
   ],
   "source": [
    "from sklearn.metrics import confusion_matrix\n",
    "cm = confusion_matrix(y_test,y_pred)\n",
    "print(cm)"
   ]
  },
  {
   "cell_type": "code",
   "execution_count": 23,
   "id": "08bd25b8",
   "metadata": {},
   "outputs": [
    {
     "name": "stdout",
     "output_type": "stream",
     "text": [
      "Accuracy :  0.9666666666666667\n"
     ]
    }
   ],
   "source": [
    "from sklearn.metrics import accuracy_score\n",
    "print(\"Accuracy : \", accuracy_score(y_test,y_pred))"
   ]
  },
  {
   "cell_type": "markdown",
   "id": "0f61831d",
   "metadata": {},
   "source": [
    "# prediction with new data"
   ]
  },
  {
   "cell_type": "code",
   "execution_count": 24,
   "id": "31b7a1f6",
   "metadata": {},
   "outputs": [
    {
     "name": "stdout",
     "output_type": "stream",
     "text": [
      "Iris-Virginica\n"
     ]
    },
    {
     "name": "stderr",
     "output_type": "stream",
     "text": [
      "C:\\Users\\Gowtham Chandu\\AppData\\Roaming\\Python\\Python310\\site-packages\\sklearn\\base.py:443: UserWarning: X has feature names, but DecisionTreeClassifier was fitted without feature names\n",
      "  warnings.warn(\n"
     ]
    }
   ],
   "source": [
    "new_df = pd.DataFrame({'Id':200,'SepalLengthCm':0.9,  'SepalWidthCm':0.1,  'PetalLengthCm':1.9,  'PetalWidthCm':4.0},index=[0])\n",
    "new_pred1 = train_classifier.predict(new_df)\n",
    "label_mapping = {\n",
    "    0: 'Iris-Setosa',\n",
    "    1: 'Iris-Versicolor',\n",
    "    2: 'Iris-Virginica'\n",
    "}\n",
    "\n",
    "# Print the remapped predicted species\n",
    "predicted_species = label_mapping[new_pred1[0]]\n",
    "print(predicted_species)\n",
    "\n"
   ]
  },
  {
   "cell_type": "code",
   "execution_count": 25,
   "id": "0cceed54",
   "metadata": {},
   "outputs": [
    {
     "data": {
      "image/png": "[encoded data removed]",
      "text/plain": [
       "<Figure size 1800x720 with 1 Axes>"
      ]
     },
     "metadata": {
      "needs_background": "light"
     },
     "output_type": "display_data"
    }
   ],
   "source": [
    "\n",
    "fig, ax = plt.subplots(figsize=(25,10))\n",
    "tree.plot_tree(model, filled=True)\n",
    "plt.show()"
   ]
  },
  {
   "cell_type": "code",
   "execution_count": null,
   "id": "e7b89b1b",
   "metadata": {},
   "outputs": [],
   "source": []
  }
 ],
 "metadata": {
  "kernelspec": {
   "display_name": "Python 3 (ipykernel)",
   "language": "python",
   "name": "python3"
  },
  "language_info": {
   "codemirror_mode": {
    "name": "ipython",
    "version": 3
   },
   "file_extension": ".py",
   "mimetype": "text/x-python",
   "name": "python",
   "nbconvert_exporter": "python",
   "pygments_lexer": "ipython3",
   "version": "3.10.9"
  }
 },
 "nbformat": 4,
 "nbformat_minor": 5
}
